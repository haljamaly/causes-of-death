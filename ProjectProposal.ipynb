{
 "cells": [
  {
   "cell_type": "markdown",
   "metadata": {},
   "source": [
    "# COGS 108 - Project Proposal"
   ]
  },
  {
   "cell_type": "markdown",
   "metadata": {},
   "source": [
    "## Important\n",
    "\n",
    "- Make sure all group members (3-5 people) are listed in the group members section.\n",
    "- ONE, and only one, member of your group should upload this notebook to TritonED. \n",
    "- Each member of the group will receive the same grade on this assignment. \n",
    "- Keep the file name the same: submit the file 'ProjectProposal.ipynb'"
   ]
  },
  {
   "cell_type": "markdown",
   "metadata": {},
   "source": [
    "## Overview"
   ]
  },
  {
   "cell_type": "markdown",
   "metadata": {},
   "source": [
    "Read the project description and detailed instructions for this assignment in the 'ProjectOutline' document."
   ]
  },
  {
   "cell_type": "markdown",
   "metadata": {},
   "source": [
    "## Group Members: Fill in the Student IDs of each group member here\n",
    "\n",
    "Replace the lines below to list each persons full student ID. Add lines as needed for your group size, and make sure each ID is listed on a separate line. \n",
    "\n",
    "- A########\n",
    "- A########\n",
    "- A########"
   ]
  },
  {
   "cell_type": "markdown",
   "metadata": {},
   "source": [
    "### Research Question\n",
    "\n",
    "What is your research question? (1-2 sentences)"
   ]
  },
  {
   "cell_type": "markdown",
   "metadata": {},
   "source": [
    "How does media portrayal of causes of death correlate with the actual number of people who die per cause?"
   ]
  },
  {
   "cell_type": "markdown",
   "metadata": {},
   "source": [
    "### Hypothesis\n",
    "\n",
    "What is your main hypothesis and predictions? (2-3 sentences)"
   ]
  },
  {
   "cell_type": "markdown",
   "metadata": {},
   "source": [
    "We hypothesize that there is a discrepancy between media attention and the actual numbers of people who die from specific causes, i.e. that media coverage is *not* proportional to the number of people who die. Furthermore, we predict that the attention bias featuring a subset of death causes is stronger in self-reinforcing media such as discussion boards on the Internet."
   ]
  },
  {
   "cell_type": "markdown",
   "metadata": {},
   "source": [
    "### Dataset(s)\n",
    "\n",
    "What data will you use to answer your question? Describe the dataset(s) in terms of number of observations, what kind of features it contains, etc. You must use at least one dataset containing at least approximately 1000 observations (if your data are smaller but you feel they are sufficient, email Prof. Voytek). You are welcome (and in fact recommended) to find multiple datasets! If you do so, describe each one, and briefly explain how you will combine them together. "
   ]
  },
  {
   "cell_type": "markdown",
   "metadata": {},
   "source": [
    "#### Mortality and Death Causes\n",
    "\n",
    "- Dataset Name: Centers for Disease Control and Prevention Underlying Cause of Death, 1999-2016\n",
    "- Link to the dataset: https://wonder.cdc.gov/ucd-icd10.html\n",
    "- Number of observations: ~45 millions (individual deaths)\n",
    "\n",
    "United States death causes according to death certificates in the time between 1999 and 2016. Contains information like place of death, month/year of death, demographics, and ICD-9/10 code. Offers various filtering and querying options such as top 15 causes of death. Has API.\n",
    "\n",
    "<hr/>\n",
    "\n",
    "- Dataset Name: WHO Mortality Database\n",
    "- Link to the dataset: http://www.who.int/healthinfo/statistics/mortality_rawdata/en/\n",
    "- Number of observations: ~3.5 millions (aggregated with respect to country, year, cause of death, age, sex)\n",
    "\n",
    "Raw data for WHO's reports on worldwide mortality. Uses ICD codes.\n",
    "\n",
    "#### Media coverage\n",
    "\n",
    "<hr/>\n",
    "\n",
    "- Dataset Name: New York Times archive_api\n",
    "- Link to the dataset: https://developer.nytimes.com/\n",
    "- Number of observations = number of articles published in NYT since 1851\n",
    "\n",
    "Contains titles of all articles published in the New York Times newspaper since 1851, grouped by year and month. Has API.\n",
    "\n",
    "<hr/>\n",
    "\n",
    "- Dataset Name: Webhose.io\n",
    "- Link to the dataset: https://webhose.io/datasets\n",
    "- Number of observations: English news articles: ~0.5 millions\n",
    "\n",
    "Crawls several news information, such as online news sites, discussion boards, and blogs. API access free for content published within last 30 days. Has API.\n",
    "\n",
    "<hr/>\n",
    "\n",
    "- Dataset Name: Reddit\n",
    "- Link to the dataset: https://praw.readthedocs.io/en/latest/ (Reddit Reddit API Wrapper for Python)\n",
    "- Number of observations = number of Reddit threads, e.g. in r/worldness or r/newsa\n",
    "\n",
    "1-2 sentences describing the dataset.\n",
    "\n",
    "#### People's interest in death causes over time\n",
    "\n",
    "- Dataset Name: Google Trends\n",
    "- Link to the dataset: https://github.com/GeneralMills/pytrends (Unofficial Google Trends API Wrapper for Python)\n",
    "- Number of observations:\n",
    "\n",
    "Actual death causes by time (month/year) can be compared with number of newspaper articles mentioning that cause in their title, reddit threads addressing that cause, and people's interest as measured by the number of Google search queries."
   ]
  },
  {
   "cell_type": "markdown",
   "metadata": {},
   "source": [
    "### Background and Prior Work\n",
    "\n",
    "Why is this question of interest, what background information led you to your hypothesis, and why is this important?\n",
    "\n",
    "Find some relevant prior work, and reference those sources. Even if you think you have a totally novel question, find the most similar prior work that you can and discuss how it relates to your project. \n",
    "\n",
    "References can be research publications, but they need not be. Blogs, github repositories, company websites, etc., are all viable references if they are relevant to your project.\n",
    "\n",
    "(2-3 paragraphs, including at least 2 references)"
   ]
  },
  {
   "cell_type": "markdown",
   "metadata": {},
   "source": [
    "On the data science and machine learning platform Kaggle, the competition with the currently highest prize is for a passenger screening algorithm, awarded by the US Department of Homeland Security. Judging from the attention that the threat of terrorism is receiving in the media, these efforts meet a considerable public interest in the danger arising from terrorism. At the same time, the amount of attention that media allocates on multiple other causes of death that are more relevant by orders of magnitude seems to fall behind disproportionately. According to [businessinsider.com](http://www.businessinsider.com/death-risk-statistics-terrorism-disease-accidents-2017-1), the lifetime odds of dying from foreign-born terrorism in the US are 1 in 45808. For comparison, it is approximately five times as likely to die in an airplane or spaceship incident, five and a half times as likely to die from police, almost five hundred times as likely to die from suicide, and respectively about 6500 times as likely to die from a heart disease or cancer, the two most common death causes in the US.\n",
    "\n",
    "Combs and Slovic (1979) compared the frequency distribution of all death causes reported by two US newspapers during a time span of six months in 1975 with the actual mortality rates of that year and people's reported estimates of death cause frequencies. They found that \"The frequency with which the two newspapers [...] reported various causes of death differed considerably from the statistical frequencies of those causes in the U.S. population. The finding that both newspapers, locate on opposite coasts of the U.S., allocated their coverage to causes of death in very similar ways suggests that the particular reporting biases observbed here may be widespread. Violent, often catastrophic causes of death such as homicides, natural disasters and accidents were overreported. Diseases were underreported. These biases in coverage corresponded closely to biases found in a previous study in which people were asked to judge the frequency of the same causes of death.\"\n",
    "\n",
    "\n",
    "References (include links):\n",
    "- 1) http://lesswrong.com/lw/j5/availability/\n",
    "- 2) [Combs, B. and Slovic, P. 1979. Causes of death: Biased newspaper coverage and biased judgments. Journalism Quarterly, 56: 837-843.](https://eric.ed.gov/?id=EJ219546)"
   ]
  },
  {
   "cell_type": "markdown",
   "metadata": {},
   "source": [
    "### Proposed Methods\n",
    "\n",
    "What methods will you use to analyze your data?\n",
    "\n",
    "- How 'clean' is the data? To the extent that it requires cleaning, how will you do so?\n",
    "- How will you analyze the data? Be as specific as you can. Briefly mention any pre-processing steps that are required for your methods (for example, checking data distributions and performing any transformations that may be required). Include a brief outline of how you will apply your chosen method(s). \n",
    "- What do you plan to report? Briefly mention any key visualizations you plan to create, and/or the kind of results you will be able to report that address your question (this could be, for example, the outcome of some statistical test(s), prediction error on a model, a model fit parameter, etc.).\n",
    "- Include a list of packages you expect to use for you project. If you plan to use packages we have not used in class, add a very brief description about them (a few words is sufficient). "
   ]
  },
  {
   "cell_type": "markdown",
   "metadata": {},
   "source": [
    "*Fill in your proposed methods information here:*\n",
    "\n",
    "*Data Cleaning (2-3 sentences)*\n",
    "Both CDC and WHO mortality data are raw data that require statistical condensing. Both will be summarized in terms of frequencies, which is why no missing data is to be expected. Webhose and both NYT and Reddit APIs offer access to article / thread titles and in the case of Reddit to full text postings, which must be crawled and summarized according to word frequencies.\n",
    "\n",
    "*Data Analysis (1-2 paragraphs)*\n",
    "We will compare the mortality rates per year with the number of occurences in NYT article headlines and Reddit postings. The number of occurences will be measured by the frequency with which words related to death causes occur in article headlines and Reddit post titles. \n",
    "\n",
    "For a selection of death causes, we will break down mortality rates and media coverage into smaller time bins (e.g., months) and compare the development over time. This may be especially insightful in the case of rare death cases that tend to attract a large amount of public attention. Using visualization (and maybe time-series analysis methods), we will try to find out whether reactions to disasters such as disease outbreaks or terrorist attacks differ between print newspapers and online media.\n",
    "\n",
    "*What to report (2-3 sentences)*\n",
    "We plan to plot the attention that newspapers and Reddit posters allocate on death causes against the mortality rates. For death causes that occur rarely, we want to plot media attention rate across time to compare how different media react on key events.\n",
    "\n",
    "Packages we plan to use:\n",
    "- pandas\n",
    "- numpy\n",
    "- matplotlib\n",
    "- PRAW (Python Reddit API Wrapper) - allows access Python API access to Reddit to crawl subreddits, comments, ..."
   ]
  },
  {
   "cell_type": "markdown",
   "metadata": {},
   "source": [
    "### Ethics and Privacy\n",
    "\n",
    "Briefly acknowledge and address any potential issues of ethics and privacy for the proposed project. In particular:\n",
    "\n",
    "- Do you have permission to use this data, for this purpose?\n",
    "\n",
    "According to their Terms of Use, all listed datasets and APIs allow access and use for research purposes, usually within a \"reasonable request volume\".\n",
    "\n",
    "- Are there privacy concerns regarding your datasets that you need to deal with, and/or terms of use that you need to comply with?\n",
    "\n",
    "Webhose is a for-profit company that allows free access to only a limited subset of their data. All APIs have terms of use or rules, however none of them exclude use of the data for the purpose we are intending to use them. Since we are going to use the CDC death information only in a cumulated fashion, we need not worry about potential traceability of their data, e.g. in low statistical census regions (all subjects captured by any of the mortality datasets are dead, anyway).\n",
    "\n",
    "- Are there potential biases in your dataset(s), in terms of who it composes, and how it was collected, that may be problematic in terms of it allowing for equitable analysis? (For example, does your data exclude particular populations, or is it likely to reflect particular human biases in a way that could be a problem?)\n",
    "\n",
    "The mortality datasets are based on official nation- and worldwide numbers. Media attention may be subject to various biases, but they are the very object of our analysis.\n",
    "\n",
    "- Are there any other issues related to your topic area, data, and/or analyses that are potentially problematic in terms of data privacy and equitable impact?\n",
    "\n",
    "No!\n",
    "\n",
    "- How will you handle any issues you identify?\n",
    "\n",
    "\n",
    "(1-2 paragraphs)"
   ]
  },
  {
   "cell_type": "markdown",
   "metadata": {},
   "source": [
    "### Discussion\n",
    "\n",
    "Discuss your project, looking forward to what your results might mean, how they fit it in with what is already known, and what problems you may encounter. \n",
    "\n",
    "In particular:\n",
    "- If your analyses and hypotheses are correct, what will be the contribution of this project to the topic domain? \n",
    "- Alternatively, what will you do if you methods don't work and/or your hypotheses are wrong? \n",
    "- What are the potential pitfalls and potential confounds of your data and/or methods that may cause problems, and/or influence your interpretations?\n",
    "\n",
    "(2-3 paragraphs)"
   ]
  },
  {
   "cell_type": "markdown",
   "metadata": {},
   "source": [
    "Whereas attention biases towards certain death causes have already been documented in traditional print media, a word-count analysis comparing print and online media has not yet been conducted. A study on this topic might help to understand better the influence of the Internet on our judgments, which might eventually help to make better decisions and policies in the future.\n",
    "\n",
    "A potential pitfall concists in the difficulty of finding all words that are used to refer to death causes in media. If our word-count algorithm does not capture the attention paid by media to different death causes accurately, the results of the comparison would be untrustworthy."
   ]
  }
 ],
 "metadata": {
  "kernelspec": {
   "display_name": "Python 3",
   "language": "python",
   "name": "python3"
  },
  "language_info": {
   "codemirror_mode": {
    "name": "ipython",
    "version": 3
   },
   "file_extension": ".py",
   "mimetype": "text/x-python",
   "name": "python",
   "nbconvert_exporter": "python",
   "pygments_lexer": "ipython3",
   "version": "3.6.3"
  }
 },
 "nbformat": 4,
 "nbformat_minor": 2
}
